{
  "nbformat": 4,
  "nbformat_minor": 0,
  "metadata": {
    "colab": {
      "provenance": []
    },
    "kernelspec": {
      "name": "python3",
      "display_name": "Python 3"
    },
    "language_info": {
      "name": "python"
    }
  },
  "cells": [
    {
      "cell_type": "code",
      "source": [
        " #Create a Vehicle class without any variables and methods\n",
        " class Vehicle:\n",
        "   pass"
      ],
      "metadata": {
        "id": "FmUxv1B75rAQ"
      },
      "execution_count": 18,
      "outputs": []
    },
    {
      "cell_type": "code",
      "source": [
        "#Write a Python program to create a Vehicle class with max_speed and mileage instance attributes.\n",
        "\n",
        "class Vehicle:\n",
        "    def __init__(self, max_speed,mileage):\n",
        "      self.max_speed= max_speed\n",
        "      self.mileage= mileage\n",
        "c=Vehicle(240,60)\n",
        "print(c.max_speed)"
      ],
      "metadata": {
        "colab": {
          "base_uri": "https://localhost:8080/"
        },
        "id": "qpfyZ5myrUDj",
        "outputId": "ade3efa4-44d2-4bd7-80b5-52c480770aba"
      },
      "execution_count": 11,
      "outputs": [
        {
          "output_type": "stream",
          "name": "stdout",
          "text": [
            "240\n"
          ]
        }
      ]
    },
    {
      "cell_type": "code",
      "source": [
        "print(c.mileage)"
      ],
      "metadata": {
        "colab": {
          "base_uri": "https://localhost:8080/"
        },
        "id": "_92oL54bzXcf",
        "outputId": "beb695d4-6860-4114-d539-84aaf9e0dcc3"
      },
      "execution_count": 12,
      "outputs": [
        {
          "output_type": "stream",
          "name": "stdout",
          "text": [
            "60\n"
          ]
        }
      ]
    },
    {
      "cell_type": "code",
      "source": [
        "#Create a child class Bus that will inherit all of the variables and methods of the Vehicle class\n",
        "class Vehicle:\n",
        "    def __init__(self,speed,model):\n",
        "      self.speed=speed\n",
        "      self.model=model\n",
        "demo=Vehicle(400,'Top Model')\n",
        "class Bus(Vehicle):\n",
        "  pass\n",
        "d1=Bus(450,\"Upper Model\")\n",
        "print(d1.speed)\n",
        "print(d1.model)"
      ],
      "metadata": {
        "colab": {
          "base_uri": "https://localhost:8080/"
        },
        "id": "CvkKOsBN2Fss",
        "outputId": "ec9260e0-3f0b-48b8-f40f-6ef84d0fab07"
      },
      "execution_count": 17,
      "outputs": [
        {
          "output_type": "stream",
          "name": "stdout",
          "text": [
            "450\n",
            "Upper Model\n"
          ]
        }
      ]
    }
  ]
}